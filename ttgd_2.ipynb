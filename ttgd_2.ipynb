{
  "nbformat": 4,
  "nbformat_minor": 0,
  "metadata": {
    "colab": {
      "private_outputs": true,
      "provenance": []
    },
    "kernelspec": {
      "name": "python3",
      "display_name": "Python 3"
    },
    "language_info": {
      "name": "python"
    }
  },
  "cells": [
    {
      "cell_type": "code",
      "source": [
        "# @title <h1><b>&#11024; install dependencies</b></h1> { vertical-output: true, form-width: \"25%\", display-mode: \"form\" }\n",
        "\n",
        "!apt install python3-libtorrent"
      ],
      "metadata": {
        "id": "mIpKJqpQXhFX"
      },
      "execution_count": null,
      "outputs": []
    },
    {
      "cell_type": "code",
      "source": [
        "# @title <h1><b>&#11024; start download</b></h1> { vertical-output: true, form-width: \"25%\", display-mode: \"form\" }\n",
        "\n",
        "# @markdown ---\n",
        "# @markdown <center><h1><b>ttgd</b></h1></center>\n",
        "# @markdown <center><h1><b>[ libtorrent ] . [ python ] . [ google ]<b></h1></center>\n",
        "# @markdown\n",
        "# @markdown ---\n",
        "# @markdown <br><br>\n",
        "\n",
        "magnet = \"\" # @param {type:\"string\"}\n",
        "\n",
        "import libtorrent as lt\n",
        "import time\n",
        "import sys\n",
        "\n",
        "session = lt.session({\"listen_interfaces\": \"0.0.0.0:6881\"})\n",
        "torrent = lt.parse_magnet_uri(magnet)\n",
        "torrent.save_path = \"/content/\"\n",
        "downloader = session.add_torrent(torrent)\n",
        "\n",
        "print(\"> downloading metadata\\n\")\n",
        "\n",
        "while not downloader.status().has_metadata:\n",
        "  time.sleep(1)\n",
        "\n",
        "print(f\"> downloading {downloader.status().name}\\n\")\n",
        "\n",
        "while not downloader.status().is_seeding:\n",
        "  print(f\"{round(downloader.status().progress*100, 2):5n}% completed | download_rate: {round(downloader.status().download_rate/1000000, 2):5n} MB/s | upload_rate: {round(downloader.status().upload_rate/1000000, 2):5n} MB/s | peers_connected: {(downloader.status().num_peers):3n} | state: {downloader.status().state}\")\n",
        "  time.sleep(5)\n",
        "\n",
        "print(\"\\n> download finished\\n\")\n"
      ],
      "metadata": {
        "id": "ddZ6YloFdkBS"
      },
      "execution_count": null,
      "outputs": []
    }
  ]
}